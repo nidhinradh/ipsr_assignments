{
 "cells": [
  {
   "cell_type": "markdown",
   "metadata": {
    "collapsed": true
   },
   "source": [
    "# Assignments"
   ]
  },
  {
   "cell_type": "markdown",
   "metadata": {},
   "source": [
    "## Expressions and Branching"
   ]
  },
  {
   "cell_type": "markdown",
   "metadata": {},
   "source": [
    "### 1. WAP to swap two numbers."
   ]
  },
  {
   "cell_type": "code",
   "execution_count": 25,
   "metadata": {},
   "outputs": [
    {
     "name": "stdout",
     "output_type": "stream",
     "text": [
      "Enter 1st variable: 5\n",
      "Enter 2nd variable: 6\n"
     ]
    }
   ],
   "source": [
    "var_1 = int(input(\"Enter 1st variable: \"))\n",
    "var_2 = int(input(\"Enter 2nd variable: \"))"
   ]
  },
  {
   "cell_type": "code",
   "execution_count": 26,
   "metadata": {},
   "outputs": [
    {
     "name": "stdout",
     "output_type": "stream",
     "text": [
      "Before Swap\n",
      "_________________\n",
      "Variable 1 = 5\n",
      "Variable 2 = 6\n"
     ]
    }
   ],
   "source": [
    "print(\"Before Swap\")\n",
    "print(\"_________________\")\n",
    "print(\"Variable 1 = {}\\nVariable 2 = {}\".format(var_1, var_2))"
   ]
  },
  {
   "cell_type": "code",
   "execution_count": 28,
   "metadata": {},
   "outputs": [
    {
     "name": "stdout",
     "output_type": "stream",
     "text": [
      "Swaping\n"
     ]
    }
   ],
   "source": [
    "print(\"Swaping\")\n",
    "var_1, var_2 = var_2, var_1"
   ]
  },
  {
   "cell_type": "code",
   "execution_count": 29,
   "metadata": {},
   "outputs": [
    {
     "name": "stdout",
     "output_type": "stream",
     "text": [
      "After Swap\n",
      "_________________\n",
      "Variable 1 = 5\n",
      "Variable 2 = 6\n"
     ]
    }
   ],
   "source": [
    "print(\"After Swap\")\n",
    "print(\"_________________\")\n",
    "print(\"Variable 1 = {}\\nVariable 2 = {}\".format(var_1, var_2))"
   ]
  },
  {
   "cell_type": "markdown",
   "metadata": {},
   "source": [
    "### 2. WAP to read the radius of circle and compute its circumference and area."
   ]
  },
  {
   "cell_type": "code",
   "execution_count": 22,
   "metadata": {},
   "outputs": [
    {
     "name": "stdout",
     "output_type": "stream",
     "text": [
      "Enter the radius: 5\n"
     ]
    }
   ],
   "source": [
    "from math import pi\n",
    "radius = float(input(\"Enter the radius: \"))"
   ]
  },
  {
   "cell_type": "code",
   "execution_count": 23,
   "metadata": {},
   "outputs": [
    {
     "name": "stdout",
     "output_type": "stream",
     "text": [
      "Calculating\n"
     ]
    }
   ],
   "source": [
    "print(\"Calculating\")\n",
    "circumference = 2 * pi * radius\n",
    "area = pi * (radius ** 2)"
   ]
  },
  {
   "cell_type": "code",
   "execution_count": 24,
   "metadata": {},
   "outputs": [
    {
     "name": "stdout",
     "output_type": "stream",
     "text": [
      "Radius = 5.0\n",
      "Circumfernce = 31.41592653589793\n",
      "Area = 78.53981633974483\n"
     ]
    }
   ],
   "source": [
    "print(\"Radius = {}\\nCircumfernce = {}\\nArea = {}\".format(radius, circumference, area))"
   ]
  },
  {
   "cell_type": "markdown",
   "metadata": {},
   "source": [
    "### 3. WAP to convert the Celsius temperature to Fahrenheit."
   ]
  },
  {
   "cell_type": "code",
   "execution_count": 18,
   "metadata": {},
   "outputs": [
    {
     "name": "stdout",
     "output_type": "stream",
     "text": [
      "Input the temperature in cecius: 5.2\n"
     ]
    }
   ],
   "source": [
    "celcius = float(input(\"Input the temperature in cecius: \"))"
   ]
  },
  {
   "cell_type": "code",
   "execution_count": 21,
   "metadata": {},
   "outputs": [
    {
     "name": "stdout",
     "output_type": "stream",
     "text": [
      "Calculating\n"
     ]
    }
   ],
   "source": [
    "print(\"Calculating\")\n",
    "fahrenheit = (celcius * 9/5) + 32"
   ]
  },
  {
   "cell_type": "code",
   "execution_count": 20,
   "metadata": {},
   "outputs": [
    {
     "name": "stdout",
     "output_type": "stream",
     "text": [
      "Temperature in celcius = 5.2\n",
      "Equivalent fahrenheit = 41.36\n"
     ]
    }
   ],
   "source": [
    "print(\"Temperature in celcius = {}\\nEquivalent fahrenheit = {}\".format(celcius, fahrenheit))"
   ]
  },
  {
   "cell_type": "markdown",
   "metadata": {},
   "source": [
    "### 4. WAP to check whether the given number is even or odd."
   ]
  },
  {
   "cell_type": "code",
   "execution_count": 36,
   "metadata": {},
   "outputs": [
    {
     "name": "stdout",
     "output_type": "stream",
     "text": [
      "Enter a number: 5\n"
     ]
    }
   ],
   "source": [
    "number = int(input(\"Enter a number: \"))"
   ]
  },
  {
   "cell_type": "code",
   "execution_count": 37,
   "metadata": {},
   "outputs": [
    {
     "name": "stdout",
     "output_type": "stream",
     "text": [
      "Checking\n"
     ]
    }
   ],
   "source": [
    "print(\"Checking\")\n",
    "flag = True if number%2 == 0 else False"
   ]
  },
  {
   "cell_type": "code",
   "execution_count": 38,
   "metadata": {},
   "outputs": [
    {
     "name": "stdout",
     "output_type": "stream",
     "text": [
      "5 is odd\n"
     ]
    }
   ],
   "source": [
    "if flag:\n",
    "    print(\"{} is even\".format(number))\n",
    "else:\n",
    "    print(\"{} is odd\".format(number))"
   ]
  },
  {
   "cell_type": "markdown",
   "metadata": {},
   "source": [
    "### 5. WAP to find the largest among three numbers."
   ]
  },
  {
   "cell_type": "code",
   "execution_count": 45,
   "metadata": {},
   "outputs": [
    {
     "name": "stdout",
     "output_type": "stream",
     "text": [
      "Method 1\n",
      "___________\n",
      "Enter variable 1: 9\n",
      "Enter variable 2: 6\n",
      "Enter variable 3: 5\n"
     ]
    }
   ],
   "source": [
    "print(\"Method 1\")\n",
    "print(\"___________\")\n",
    "var_1 = int(input(\"Enter variable 1: \"))\n",
    "var_2 = int(input(\"Enter variable 2: \"))\n",
    "var_3 = int(input(\"Enter variable 3: \"))"
   ]
  },
  {
   "cell_type": "code",
   "execution_count": 46,
   "metadata": {},
   "outputs": [
    {
     "name": "stdout",
     "output_type": "stream",
     "text": [
      "Cheking\n",
      "9 is the largest among 9, 6 and 5\n"
     ]
    }
   ],
   "source": [
    "print(\"Cheking\")\n",
    "if var_1 > var_2 and var_1 > var_3:\n",
    "    print(\"{} is the largest among {}, {} and {}\".format(var_1,var_1,var_2,var_3))\n",
    "elif var_2 > var_3:\n",
    "    print(\"{} is the largest among {}, {} and {}\".format(var_2,var_1,var_2,var_3))\n",
    "else:\n",
    "    print(\"{} is the largest among {}, {} and {}\".format(var_3,var_1,var_2,var_3))"
   ]
  },
  {
   "cell_type": "code",
   "execution_count": 50,
   "metadata": {},
   "outputs": [
    {
     "name": "stdout",
     "output_type": "stream",
     "text": [
      "Method 2\n",
      "___________\n",
      "Input a list of numbers: 2 56 98 58 74 12 54 53 26 87 96 99\n"
     ]
    }
   ],
   "source": [
    "print(\"Method 2\")\n",
    "print(\"___________\")\n",
    "numbers = [int(x) for x in input(\"Input a list of numbers: \").split()]"
   ]
  },
  {
   "cell_type": "code",
   "execution_count": 51,
   "metadata": {},
   "outputs": [
    {
     "name": "stdout",
     "output_type": "stream",
     "text": [
      "Cheking\n"
     ]
    }
   ],
   "source": [
    "print(\"Cheking(without condition check)\")\n",
    "largest = max(numbers)"
   ]
  },
  {
   "cell_type": "code",
   "execution_count": 52,
   "metadata": {},
   "outputs": [
    {
     "name": "stdout",
     "output_type": "stream",
     "text": [
      "99 is the largest among [2, 56, 98, 58, 74, 12, 54, 53, 26, 87, 96, 99]\n"
     ]
    }
   ],
   "source": [
    "print(\"{} is the largest among {}\".format(largest, numbers))"
   ]
  },
  {
   "cell_type": "markdown",
   "metadata": {},
   "source": [
    "### 6. WAP to find the roots of a quadratic equation."
   ]
  },
  {
   "cell_type": "code",
   "execution_count": 66,
   "metadata": {},
   "outputs": [
    {
     "name": "stdout",
     "output_type": "stream",
     "text": [
      "Enter coefficients a, b and c: 2.3 4 5.6\n"
     ]
    }
   ],
   "source": [
    "from math import sqrt\n",
    "a, b, c = map(float, input(\"Enter coefficients a, b and c: \").split())"
   ]
  },
  {
   "cell_type": "code",
   "execution_count": 67,
   "metadata": {},
   "outputs": [
    {
     "name": "stdout",
     "output_type": "stream",
     "text": [
      "Calculating discriminant\n"
     ]
    }
   ],
   "source": [
    "print(\"Calculating discriminant\")\n",
    "discriminant = b * b - 4 * a * c"
   ]
  },
  {
   "cell_type": "code",
   "execution_count": 68,
   "metadata": {},
   "outputs": [
    {
     "name": "stdout",
     "output_type": "stream",
     "text": [
      "Roots are complex and different\n",
      "root1 = -0.8695652173913044+1.2956229935435948i and root2 = -0.8695652173913044-1.2956229935435948i\n"
     ]
    }
   ],
   "source": [
    "if discriminant > 0:\n",
    "    print(\"Roots are real and different\")\n",
    "    root1 = (-b + sqrt(discriminant)) / (2*a)\n",
    "    root2 = (-b - sqrt(discriminant)) / (2*a)\n",
    "    print(\"root1 = {} and root2 = {}\".format(root1 , root2))\n",
    "if discriminant == 0:\n",
    "    print(\"Roots are real and equal\")\n",
    "    root1 = root2 = -b / (2*a)\n",
    "    print(\"root1 = root2 = {}\".format(root1))\n",
    "else:\n",
    "    print(\"Roots are complex and different\")\n",
    "    realPart = -b / (2*a);\n",
    "    imaginaryPart = sqrt(-discriminant) / (2*a);\n",
    "    print(\"root1 = {}+{}i and root2 = {}-{}i\".format(realPart, imaginaryPart, realPart, imaginaryPart))"
   ]
  },
  {
   "cell_type": "markdown",
   "metadata": {},
   "source": [
    "### 7.0 WAP to check whether the given year is leap or not. "
   ]
  },
  {
   "cell_type": "code",
   "execution_count": 8,
   "metadata": {},
   "outputs": [
    {
     "name": "stdout",
     "output_type": "stream",
     "text": [
      "Enter a year: 1800\n"
     ]
    }
   ],
   "source": [
    "year = int(input(\"Enter a year: \"))"
   ]
  },
  {
   "cell_type": "markdown",
   "metadata": {},
   "source": [
    "print(\"Cheking\")\n",
    "if year % 4 == 0:\n",
    "    if year % 100 ==0:\n",
    "        if year % 400 ==0:\n",
    "            print(\"{} is a leap year\".format(year))\n",
    "        else:\n",
    "            print(\"{} is not a leap year\".format(year))\n",
    "    else:\n",
    "        print(\"{} is a leap year\".format(year))\n",
    "else:\n",
    "    print(\"{} is not a leap year\".format(year))"
   ]
  },
  {
   "cell_type": "markdown",
   "metadata": {},
   "source": [
    "### 8.0 WAP to convert the given number of milliseconds to hours, minutes and seconds."
   ]
  },
  {
   "cell_type": "code",
   "execution_count": 16,
   "metadata": {},
   "outputs": [
    {
     "name": "stdout",
     "output_type": "stream",
     "text": [
      "Input time in milliseconds: 4587878787\n"
     ]
    }
   ],
   "source": [
    "milliseconds = int(input(\"Input time in milliseconds: \"))"
   ]
  },
  {
   "cell_type": "code",
   "execution_count": 17,
   "metadata": {},
   "outputs": [
    {
     "name": "stdout",
     "output_type": "stream",
     "text": [
      "Calculating\n"
     ]
    }
   ],
   "source": [
    "print(\"Calculating\")\n",
    "seconds=(milliseconds // 1000) % 60\n",
    "minutes=(milliseconds // (1000*60)) % 60\n",
    "hours=(milliseconds // (1000*60*60)) % 24"
   ]
  },
  {
   "cell_type": "code",
   "execution_count": 19,
   "metadata": {},
   "outputs": [
    {
     "name": "stdout",
     "output_type": "stream",
     "text": [
      "4587878787 milliseconds is equal to 2 hour(s), 24 minute(s)and 38 second(s)\n"
     ]
    }
   ],
   "source": [
    "print(\"{} milliseconds is equal to {} hour(s), {} minute(s)and {} second(s)\".format(milliseconds, hours, minutes, seconds))"
   ]
  },
  {
   "cell_type": "markdown",
   "metadata": {},
   "source": [
    "## Looping"
   ]
  },
  {
   "cell_type": "markdown",
   "metadata": {},
   "source": [
    "### 1.0 WAP to find factorial of a given number."
   ]
  },
  {
   "cell_type": "code",
   "execution_count": 23,
   "metadata": {},
   "outputs": [
    {
     "name": "stdout",
     "output_type": "stream",
     "text": [
      "Mehod 1\n",
      "Enter a number: 6\n"
     ]
    }
   ],
   "source": [
    "print(\"Mehod 1\")\n",
    "num = int(input(\"Enter a number: \"))"
   ]
  },
  {
   "cell_type": "code",
   "execution_count": 24,
   "metadata": {},
   "outputs": [
    {
     "name": "stdout",
     "output_type": "stream",
     "text": [
      "Calculating\n",
      "Factorial of 6 is 720\n"
     ]
    }
   ],
   "source": [
    "print(\"Calculating\")\n",
    "factorial = 1\n",
    "for i in range(1, num):\n",
    "    factorial += factorial * i\n",
    "print(\"Factorial of {} is {}\".format(num, factorial))"
   ]
  },
  {
   "cell_type": "code",
   "execution_count": 25,
   "metadata": {},
   "outputs": [
    {
     "name": "stdout",
     "output_type": "stream",
     "text": [
      "Method 2\n"
     ]
    }
   ],
   "source": [
    "print(\"Method 2(without loop)\")\n",
    "from math import factorial"
   ]
  },
  {
   "cell_type": "code",
   "execution_count": 26,
   "metadata": {},
   "outputs": [
    {
     "name": "stdout",
     "output_type": "stream",
     "text": [
      "Enter a number: 4\n"
     ]
    }
   ],
   "source": [
    "num = int(input(\"Enter a number: \"))"
   ]
  },
  {
   "cell_type": "code",
   "execution_count": 27,
   "metadata": {},
   "outputs": [
    {
     "name": "stdout",
     "output_type": "stream",
     "text": [
      "Factorial of 4 is 24\n"
     ]
    }
   ],
   "source": [
    "print(\"Factorial of {} is {}\".format(num, factorial(num)))"
   ]
  },
  {
   "cell_type": "markdown",
   "metadata": {},
   "source": [
    "### 2.0 WAP to check whether the given number is prime/not."
   ]
  },
  {
   "cell_type": "code",
   "execution_count": 39,
   "metadata": {},
   "outputs": [
    {
     "name": "stdout",
     "output_type": "stream",
     "text": [
      "Enter a number: 127\n"
     ]
    }
   ],
   "source": [
    "number = int(input(\"Enter a number: \"))"
   ]
  },
  {
   "cell_type": "code",
   "execution_count": 40,
   "metadata": {},
   "outputs": [
    {
     "name": "stdout",
     "output_type": "stream",
     "text": [
      "Checking\n"
     ]
    }
   ],
   "source": [
    "print(\"Checking\")\n",
    "isPrime = True \n",
    "for i in range(2, number//2):\n",
    "    if number % i == 0:\n",
    "        isPrime = False\n",
    "        break"
   ]
  },
  {
   "cell_type": "code",
   "execution_count": 41,
   "metadata": {},
   "outputs": [
    {
     "name": "stdout",
     "output_type": "stream",
     "text": [
      "127 is prime\n"
     ]
    }
   ],
   "source": [
    "if isPrime:\n",
    "    print(\"{} is prime\".format(number))\n",
    "else:\n",
    "    \n",
    "    print(\"{} is not prime\".format(number))"
   ]
  },
  {
   "cell_type": "markdown",
   "metadata": {},
   "source": [
    "### 3.0 WAP to check whether the given number is Armstrong or not."
   ]
  },
  {
   "cell_type": "code",
   "execution_count": 58,
   "metadata": {},
   "outputs": [
    {
     "name": "stdout",
     "output_type": "stream",
     "text": [
      "Enter a number: 150\n"
     ]
    }
   ],
   "source": [
    "number = input(\"Enter a number: \")\n",
    "length = len(number)\n",
    "number = int(number)\n",
    "original = number"
   ]
  },
  {
   "cell_type": "code",
   "execution_count": 59,
   "metadata": {},
   "outputs": [
    {
     "name": "stdout",
     "output_type": "stream",
     "text": [
      "Checking\n",
      "150 is not an armstrong number\n"
     ]
    }
   ],
   "source": [
    "print(\"Checking\")\n",
    "sum = 0\n",
    "while number > 0:\n",
    "    sum += (number % 10) ** length\n",
    "    number = number // 10\n",
    "if original == sum:\n",
    "    print(\"{} is an armstrong number\".format(original))\n",
    "else:\n",
    "    \n",
    "    print(\"{} is not an armstrong number\".format(original))"
   ]
  },
  {
   "cell_type": "markdown",
   "metadata": {},
   "source": [
    "### 4.0 WAP to generate Fibonacci series."
   ]
  },
  {
   "cell_type": "code",
   "execution_count": 60,
   "metadata": {},
   "outputs": [
    {
     "name": "stdout",
     "output_type": "stream",
     "text": [
      "Enter th limit: 100\n"
     ]
    }
   ],
   "source": [
    "limit = int(input(\"Enter th limit: \"))"
   ]
  },
  {
   "cell_type": "code",
   "execution_count": 62,
   "metadata": {},
   "outputs": [
    {
     "name": "stdout",
     "output_type": "stream",
     "text": [
      "Generating\n",
      "1 \n",
      "1 \n",
      "2 \n",
      "3 \n",
      "5 \n",
      "8 \n",
      "13 \n",
      "21 \n",
      "34 \n",
      "55 \n",
      "89 \n",
      "144 \n",
      "233 \n",
      "377 \n",
      "610 \n",
      "987 \n",
      "1597 \n",
      "2584 \n",
      "4181 \n",
      "6765 \n",
      "10946 \n",
      "17711 \n",
      "28657 \n",
      "46368 \n",
      "75025 \n",
      "121393 \n",
      "196418 \n",
      "317811 \n",
      "514229 \n",
      "832040 \n",
      "1346269 \n",
      "2178309 \n",
      "3524578 \n",
      "5702887 \n",
      "9227465 \n",
      "14930352 \n",
      "24157817 \n",
      "39088169 \n",
      "63245986 \n",
      "102334155 \n",
      "165580141 \n",
      "267914296 \n",
      "433494437 \n",
      "701408733 \n",
      "1134903170 \n",
      "1836311903 \n",
      "2971215073 \n",
      "4807526976 \n",
      "7778742049 \n",
      "12586269025 \n",
      "20365011074 \n",
      "32951280099 \n",
      "53316291173 \n",
      "86267571272 \n",
      "139583862445 \n",
      "225851433717 \n",
      "365435296162 \n",
      "591286729879 \n",
      "956722026041 \n",
      "1548008755920 \n",
      "2504730781961 \n",
      "4052739537881 \n",
      "6557470319842 \n",
      "10610209857723 \n",
      "17167680177565 \n",
      "27777890035288 \n",
      "44945570212853 \n",
      "72723460248141 \n",
      "117669030460994 \n",
      "190392490709135 \n",
      "308061521170129 \n",
      "498454011879264 \n",
      "806515533049393 \n",
      "1304969544928657 \n",
      "2111485077978050 \n",
      "3416454622906707 \n",
      "5527939700884757 \n",
      "8944394323791464 \n",
      "14472334024676221 \n",
      "23416728348467685 \n",
      "37889062373143906 \n",
      "61305790721611591 \n",
      "99194853094755497 \n",
      "160500643816367088 \n",
      "259695496911122585 \n",
      "420196140727489673 \n",
      "679891637638612258 \n",
      "1100087778366101931 \n",
      "1779979416004714189 \n",
      "2880067194370816120 \n",
      "4660046610375530309 \n",
      "7540113804746346429 \n",
      "12200160415121876738 \n",
      "19740274219868223167 \n",
      "31940434634990099905 \n",
      "51680708854858323072 \n",
      "83621143489848422977 \n",
      "135301852344706746049 \n",
      "218922995834555169026 \n",
      "354224848179261915075 \n"
     ]
    }
   ],
   "source": [
    "print(\"Generating\")\n",
    "a = 0\n",
    "b = 1\n",
    "for i in range(1, limit+1):\n",
    "    print(\"{} \".format(b))\n",
    "    a, b = b, a+b"
   ]
  },
  {
   "cell_type": "markdown",
   "metadata": {},
   "source": [
    "### 5.0 WAP to find the sum of n natural numbers to a limit"
   ]
  },
  {
   "cell_type": "code",
   "execution_count": 75,
   "metadata": {},
   "outputs": [
    {
     "name": "stdout",
     "output_type": "stream",
     "text": [
      "Enter the limit: 5\n"
     ]
    }
   ],
   "source": [
    "n = int(input(\"Enter the limit: \"))"
   ]
  },
  {
   "cell_type": "code",
   "execution_count": 81,
   "metadata": {},
   "outputs": [
    {
     "name": "stdout",
     "output_type": "stream",
     "text": [
      "Calculating\n",
      "Sum of first 5 natural number(s) is 15\n"
     ]
    }
   ],
   "source": [
    "print(\"Calculating\")\n",
    "sum = (n**2+n) // 2\n",
    "print(\"Sum of first {} natural number(s) is {}\".format(limit, sum))"
   ]
  },
  {
   "cell_type": "markdown",
   "metadata": {},
   "source": [
    "## Function and Function Call"
   ]
  },
  {
   "cell_type": "markdown",
   "metadata": {},
   "source": [
    "### 1.0 WAP to find the factors of a given number."
   ]
  },
  {
   "cell_type": "code",
   "execution_count": 89,
   "metadata": {},
   "outputs": [],
   "source": [
    "def checkFactor(number, factor):\n",
    "    return True if number%factor == 0 else False "
   ]
  },
  {
   "cell_type": "code",
   "execution_count": 92,
   "metadata": {},
   "outputs": [],
   "source": [
    "def main():\n",
    "    number = int(input(\"Enter a number: \"))\n",
    "    factors = []\n",
    "    print(\"Calculating\")\n",
    "    for i in range(1, number//2+1):\n",
    "        if checkFactor(number, i):\n",
    "            factors.append(i)\n",
    "    print(\"Factor(s) of {} is/are {}\".format(number, factors))"
   ]
  },
  {
   "cell_type": "code",
   "execution_count": 93,
   "metadata": {},
   "outputs": [
    {
     "name": "stdout",
     "output_type": "stream",
     "text": [
      "Enter a number: 150\n",
      "Calculating\n",
      "Factor(s) of 150 is/are [1, 2, 3, 5, 6, 10, 15, 25, 30, 50, 75]\n"
     ]
    }
   ],
   "source": [
    "main()"
   ]
  },
  {
   "cell_type": "markdown",
   "metadata": {},
   "source": [
    "### 2.0 WAP to find factorial of a given number using recursion."
   ]
  },
  {
   "cell_type": "code",
   "execution_count": 102,
   "metadata": {},
   "outputs": [],
   "source": [
    "def findFactorial(num):\n",
    "    if num == 0 or num ==1:\n",
    "        return 1\n",
    "    else:\n",
    "        return num * findFactorial(num-1)"
   ]
  },
  {
   "cell_type": "code",
   "execution_count": 103,
   "metadata": {},
   "outputs": [],
   "source": [
    "def main():\n",
    "    number = int(input(\"Enter a number: \"))\n",
    "    print(\"Factorial of {} is {}\".format(number, findFactorial(number)))"
   ]
  },
  {
   "cell_type": "code",
   "execution_count": 104,
   "metadata": {},
   "outputs": [
    {
     "name": "stdout",
     "output_type": "stream",
     "text": [
      "Enter a number: 5\n",
      "Factorial of 5 is 120\n"
     ]
    }
   ],
   "source": [
    "main()"
   ]
  },
  {
   "cell_type": "markdown",
   "metadata": {},
   "source": [
    "### 3.0 WAP to generate Fibonacci series using recursion."
   ]
  },
  {
   "cell_type": "code",
   "execution_count": null,
   "metadata": {},
   "outputs": [],
   "source": [
    "def fibonacciSeries(limit)"
   ]
  }
 ],
 "metadata": {
  "kernelspec": {
   "display_name": "Python 3",
   "language": "python",
   "name": "python3"
  },
  "language_info": {
   "codemirror_mode": {
    "name": "ipython",
    "version": 3
   },
   "file_extension": ".py",
   "mimetype": "text/x-python",
   "name": "python",
   "nbconvert_exporter": "python",
   "pygments_lexer": "ipython3",
   "version": "3.7.0"
  }
 },
 "nbformat": 4,
 "nbformat_minor": 1
}

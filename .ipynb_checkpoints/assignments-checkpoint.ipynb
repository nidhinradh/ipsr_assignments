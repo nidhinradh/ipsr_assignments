{
 "cells": [
  {
   "cell_type": "markdown",
   "metadata": {
    "collapsed": true
   },
   "source": [
    "# Assignments"
   ]
  },
  {
   "cell_type": "markdown",
   "metadata": {},
   "source": [
    "## Expressions and Branching"
   ]
  },
  {
   "cell_type": "markdown",
   "metadata": {},
   "source": [
    "#### 1. WAP to swap two numbers."
   ]
  },
  {
   "cell_type": "code",
   "execution_count": 25,
   "metadata": {},
   "outputs": [
    {
     "name": "stdout",
     "output_type": "stream",
     "text": [
      "Enter 1st variable: 5\n",
      "Enter 2nd variable: 6\n"
     ]
    }
   ],
   "source": [
    "var_1 = int(input(\"Enter 1st variable: \"))\n",
    "var_2 = int(input(\"Enter 2nd variable: \"))"
   ]
  },
  {
   "cell_type": "code",
   "execution_count": 26,
   "metadata": {},
   "outputs": [
    {
     "name": "stdout",
     "output_type": "stream",
     "text": [
      "Before Swap\n",
      "_________________\n",
      "Variable 1 = 5\n",
      "Variable 2 = 6\n"
     ]
    }
   ],
   "source": [
    "print(\"Before Swap\")\n",
    "print(\"_________________\")\n",
    "print(\"Variable 1 = {}\\nVariable 2 = {}\".format(var_1, var_2))"
   ]
  },
  {
   "cell_type": "code",
   "execution_count": 28,
   "metadata": {},
   "outputs": [
    {
     "name": "stdout",
     "output_type": "stream",
     "text": [
      "Swaping\n"
     ]
    }
   ],
   "source": [
    "print(\"Swaping\")\n",
    "var_1, var_2 = var_2, var_1"
   ]
  },
  {
   "cell_type": "code",
   "execution_count": 29,
   "metadata": {},
   "outputs": [
    {
     "name": "stdout",
     "output_type": "stream",
     "text": [
      "After Swap\n",
      "_________________\n",
      "Variable 1 = 5\n",
      "Variable 2 = 6\n"
     ]
    }
   ],
   "source": [
    "print(\"After Swap\")\n",
    "print(\"_________________\")\n",
    "print(\"Variable 1 = {}\\nVariable 2 = {}\".format(var_1, var_2))"
   ]
  },
  {
   "cell_type": "markdown",
   "metadata": {},
   "source": [
    "#### 2. WAP to read the radius of circle and compute its circumference and area."
   ]
  },
  {
   "cell_type": "code",
   "execution_count": 22,
   "metadata": {},
   "outputs": [
    {
     "name": "stdout",
     "output_type": "stream",
     "text": [
      "Enter the radius: 5\n"
     ]
    }
   ],
   "source": [
    "from math import pi\n",
    "radius = float(input(\"Enter the radius: \"))"
   ]
  },
  {
   "cell_type": "code",
   "execution_count": 23,
   "metadata": {},
   "outputs": [
    {
     "name": "stdout",
     "output_type": "stream",
     "text": [
      "Calculating\n"
     ]
    }
   ],
   "source": [
    "print(\"Calculating\")\n",
    "circumference = 2 * pi * radius\n",
    "area = pi * (radius ** 2)"
   ]
  },
  {
   "cell_type": "code",
   "execution_count": 24,
   "metadata": {},
   "outputs": [
    {
     "name": "stdout",
     "output_type": "stream",
     "text": [
      "Radius = 5.0\n",
      "Circumfernce = 31.41592653589793\n",
      "Area = 78.53981633974483\n"
     ]
    }
   ],
   "source": [
    "print(\"Radius = {}\\nCircumfernce = {}\\nArea = {}\".format(radius, circumference, area))"
   ]
  },
  {
   "cell_type": "markdown",
   "metadata": {},
   "source": [
    "#### 3. WAP to convert the Celsius temperature to Fahrenheit."
   ]
  },
  {
   "cell_type": "code",
   "execution_count": 18,
   "metadata": {},
   "outputs": [
    {
     "name": "stdout",
     "output_type": "stream",
     "text": [
      "Input the temperature in cecius: 5.2\n"
     ]
    }
   ],
   "source": [
    "celcius = float(input(\"Input the temperature in cecius: \"))"
   ]
  },
  {
   "cell_type": "code",
   "execution_count": 21,
   "metadata": {},
   "outputs": [
    {
     "name": "stdout",
     "output_type": "stream",
     "text": [
      "Calculating\n"
     ]
    }
   ],
   "source": [
    "print(\"Calculating\")\n",
    "fahrenheit = (celcius * 9/5) + 32"
   ]
  },
  {
   "cell_type": "code",
   "execution_count": 20,
   "metadata": {},
   "outputs": [
    {
     "name": "stdout",
     "output_type": "stream",
     "text": [
      "Temperature in celcius = 5.2\n",
      "Equivalent fahrenheit = 41.36\n"
     ]
    }
   ],
   "source": [
    "print(\"Temperature in celcius = {}\\nEquivalent fahrenheit = {}\".format(celcius, fahrenheit))"
   ]
  },
  {
   "cell_type": "markdown",
   "metadata": {},
   "source": [
    "#### 4. WAP to check whether the given number is even or odd."
   ]
  },
  {
   "cell_type": "code",
   "execution_count": 36,
   "metadata": {},
   "outputs": [
    {
     "name": "stdout",
     "output_type": "stream",
     "text": [
      "Enter a number: 5\n"
     ]
    }
   ],
   "source": [
    "number = int(input(\"Enter a number: \"))"
   ]
  },
  {
   "cell_type": "code",
   "execution_count": 37,
   "metadata": {},
   "outputs": [
    {
     "name": "stdout",
     "output_type": "stream",
     "text": [
      "Checking\n"
     ]
    }
   ],
   "source": [
    "print(\"Checking\")\n",
    "flag = True if number%2 == 0 else False"
   ]
  },
  {
   "cell_type": "code",
   "execution_count": 38,
   "metadata": {},
   "outputs": [
    {
     "name": "stdout",
     "output_type": "stream",
     "text": [
      "5 is odd\n"
     ]
    }
   ],
   "source": [
    "if flag:\n",
    "    print(\"{} is even\".format(number))\n",
    "else:\n",
    "    print(\"{} is odd\".format(number))"
   ]
  },
  {
   "cell_type": "markdown",
   "metadata": {},
   "source": [
    "#### 5. WAP to find the largest among three numbers."
   ]
  },
  {
   "cell_type": "code",
   "execution_count": 45,
   "metadata": {},
   "outputs": [
    {
     "name": "stdout",
     "output_type": "stream",
     "text": [
      "Method 1\n",
      "___________\n",
      "Enter variable 1: 9\n",
      "Enter variable 2: 6\n",
      "Enter variable 3: 5\n"
     ]
    }
   ],
   "source": [
    "print(\"Method 1\")\n",
    "print(\"___________\")\n",
    "var_1 = int(input(\"Enter variable 1: \"))\n",
    "var_2 = int(input(\"Enter variable 2: \"))\n",
    "var_3 = int(input(\"Enter variable 3: \"))"
   ]
  },
  {
   "cell_type": "code",
   "execution_count": 46,
   "metadata": {},
   "outputs": [
    {
     "name": "stdout",
     "output_type": "stream",
     "text": [
      "Cheking\n",
      "9 is the largest among 9, 6 and 5\n"
     ]
    }
   ],
   "source": [
    "print(\"Cheking\")\n",
    "if var_1 > var_2 and var_1 > var_3:\n",
    "    print(\"{} is the largest among {}, {} and {}\".format(var_1,var_1,var_2,var_3))\n",
    "elif var_2 > var_3:\n",
    "    print(\"{} is the largest among {}, {} and {}\".format(var_2,var_1,var_2,var_3))\n",
    "else:\n",
    "    print(\"{} is the largest among {}, {} and {}\".format(var_3,var_1,var_2,var_3))"
   ]
  },
  {
   "cell_type": "code",
   "execution_count": 50,
   "metadata": {},
   "outputs": [
    {
     "name": "stdout",
     "output_type": "stream",
     "text": [
      "Method 2\n",
      "___________\n",
      "Input a list of numbers: 2 56 98 58 74 12 54 53 26 87 96 99\n"
     ]
    }
   ],
   "source": [
    "print(\"Method 2\")\n",
    "print(\"___________\")\n",
    "numbers = [int(x) for x in input(\"Input a list of numbers: \").split()]"
   ]
  },
  {
   "cell_type": "code",
   "execution_count": 51,
   "metadata": {},
   "outputs": [
    {
     "name": "stdout",
     "output_type": "stream",
     "text": [
      "Cheking\n"
     ]
    }
   ],
   "source": [
    "print(\"Cheking(without condition check)\")\n",
    "largest = max(numbers)"
   ]
  },
  {
   "cell_type": "code",
   "execution_count": 52,
   "metadata": {},
   "outputs": [
    {
     "name": "stdout",
     "output_type": "stream",
     "text": [
      "99 is the largest among [2, 56, 98, 58, 74, 12, 54, 53, 26, 87, 96, 99]\n"
     ]
    }
   ],
   "source": [
    "print(\"{} is the largest among {}\".format(largest, numbers))"
   ]
  },
  {
   "cell_type": "markdown",
   "metadata": {},
   "source": [
    "#### 6. WAP to find the roots of a quadratic equation."
   ]
  },
  {
   "cell_type": "code",
   "execution_count": 66,
   "metadata": {},
   "outputs": [
    {
     "name": "stdout",
     "output_type": "stream",
     "text": [
      "Enter coefficients a, b and c: 2.3 4 5.6\n"
     ]
    }
   ],
   "source": [
    "from math import sqrt\n",
    "a, b, c = map(float, input(\"Enter coefficients a, b and c: \").split())"
   ]
  },
  {
   "cell_type": "code",
   "execution_count": 67,
   "metadata": {},
   "outputs": [
    {
     "name": "stdout",
     "output_type": "stream",
     "text": [
      "Calculating discriminant\n"
     ]
    }
   ],
   "source": [
    "print(\"Calculating discriminant\")\n",
    "discriminant = b * b - 4 * a * c"
   ]
  },
  {
   "cell_type": "code",
   "execution_count": 68,
   "metadata": {},
   "outputs": [
    {
     "name": "stdout",
     "output_type": "stream",
     "text": [
      "Roots are complex and different\n",
      "root1 = -0.8695652173913044+1.2956229935435948i and root2 = -0.8695652173913044-1.2956229935435948i\n"
     ]
    }
   ],
   "source": [
    "if discriminant > 0:\n",
    "    print(\"Roots are real and different\")\n",
    "    root1 = (-b + sqrt(discriminant)) / (2*a)\n",
    "    root2 = (-b - sqrt(discriminant)) / (2*a)\n",
    "    print(\"root1 = {} and root2 = {}\".format(root1 , root2))\n",
    "if discriminant == 0:\n",
    "    print(\"Roots are real and equal\")\n",
    "    root1 = root2 = -b / (2*a)\n",
    "    print(\"root1 = root2 = {}\".format(root1))\n",
    "else:\n",
    "    print(\"Roots are complex and different\")\n",
    "    realPart = -b / (2*a);\n",
    "    imaginaryPart = sqrt(-discriminant) / (2*a);\n",
    "    print(\"root1 = {}+{}i and root2 = {}-{}i\".format(realPart, imaginaryPart, realPart, imaginaryPart))"
   ]
  },
  {
   "cell_type": "markdown",
   "metadata": {},
   "source": [
    "#### 7.0 WAP to check whether the given year is leap or not. "
   ]
  },
  {
   "cell_type": "code",
   "execution_count": 8,
   "metadata": {},
   "outputs": [
    {
     "name": "stdout",
     "output_type": "stream",
     "text": [
      "Enter a year: 1800\n"
     ]
    }
   ],
   "source": [
    "year = int(input(\"Enter a year: \"))"
   ]
  },
  {
   "cell_type": "markdown",
   "metadata": {},
   "source": [
    "print(\"Cheking\")\n",
    "if year % 4 == 0:\n",
    "    if year % 100 ==0:\n",
    "        if year % 400 ==0:\n",
    "            print(\"{} is a leap year\".format(year))\n",
    "        else:\n",
    "            print(\"{} is not a leap year\".format(year))\n",
    "    else:\n",
    "        print(\"{} is a leap year\".format(year))\n",
    "else:\n",
    "    print(\"{} is not a leap year\".format(year))"
   ]
  },
  {
   "cell_type": "markdown",
   "metadata": {},
   "source": [
    "#### 8.0 WAP to convert the given number of milliseconds to hours, minutes and seconds."
   ]
  },
  {
   "cell_type": "code",
   "execution_count": 16,
   "metadata": {},
   "outputs": [
    {
     "name": "stdout",
     "output_type": "stream",
     "text": [
      "Input time in milliseconds: 4587878787\n"
     ]
    }
   ],
   "source": [
    "milliseconds = int(input(\"Input time in milliseconds: \"))"
   ]
  },
  {
   "cell_type": "code",
   "execution_count": 17,
   "metadata": {},
   "outputs": [
    {
     "name": "stdout",
     "output_type": "stream",
     "text": [
      "Calculating\n"
     ]
    }
   ],
   "source": [
    "print(\"Calculating\")\n",
    "seconds=(milliseconds // 1000) % 60\n",
    "minutes=(milliseconds // (1000*60)) % 60\n",
    "hours=(milliseconds // (1000*60*60)) % 24"
   ]
  },
  {
   "cell_type": "code",
   "execution_count": 19,
   "metadata": {},
   "outputs": [
    {
     "name": "stdout",
     "output_type": "stream",
     "text": [
      "4587878787 milliseconds is equal to 2 hour(s), 24 minute(s)and 38 second(s)\n"
     ]
    }
   ],
   "source": [
    "print(\"{} milliseconds is equal to {} hour(s), {} minute(s)and {} second(s)\".format(milliseconds, hours, minutes, seconds))"
   ]
  },
  {
   "cell_type": "markdown",
   "metadata": {},
   "source": [
    "## Looping"
   ]
  },
  {
   "cell_type": "markdown",
   "metadata": {},
   "source": [
    "#### 1.0 WAP to find factorial of a given number."
   ]
  },
  {
   "cell_type": "code",
   "execution_count": 23,
   "metadata": {},
   "outputs": [
    {
     "name": "stdout",
     "output_type": "stream",
     "text": [
      "Mehod 1\n",
      "Enter a number: 6\n"
     ]
    }
   ],
   "source": [
    "print(\"Mehod 1\")\n",
    "num = int(input(\"Enter a number: \"))"
   ]
  },
  {
   "cell_type": "code",
   "execution_count": 24,
   "metadata": {},
   "outputs": [
    {
     "name": "stdout",
     "output_type": "stream",
     "text": [
      "Calculating\n",
      "Factorial of 6 is 720\n"
     ]
    }
   ],
   "source": [
    "print(\"Calculating\")\n",
    "factorial = 1\n",
    "for i in range(1, num):\n",
    "    factorial += factorial * i\n",
    "print(\"Factorial of {} is {}\".format(num, factorial))"
   ]
  },
  {
   "cell_type": "code",
   "execution_count": 25,
   "metadata": {},
   "outputs": [
    {
     "name": "stdout",
     "output_type": "stream",
     "text": [
      "Method 2\n"
     ]
    }
   ],
   "source": [
    "print(\"Method 2(without loop)\")\n",
    "from math import factorial"
   ]
  },
  {
   "cell_type": "code",
   "execution_count": 26,
   "metadata": {},
   "outputs": [
    {
     "name": "stdout",
     "output_type": "stream",
     "text": [
      "Enter a number: 4\n"
     ]
    }
   ],
   "source": [
    "num = int(input(\"Enter a number: \"))"
   ]
  },
  {
   "cell_type": "code",
   "execution_count": 27,
   "metadata": {},
   "outputs": [
    {
     "name": "stdout",
     "output_type": "stream",
     "text": [
      "Factorial of 4 is 24\n"
     ]
    }
   ],
   "source": [
    "print(\"Factorial of {} is {}\".format(num, factorial(num)))"
   ]
  },
  {
   "cell_type": "markdown",
   "metadata": {},
   "source": [
    "#### 2.0 WAP to check whether the given number is prime/not."
   ]
  },
  {
   "cell_type": "code",
   "execution_count": 39,
   "metadata": {},
   "outputs": [
    {
     "name": "stdout",
     "output_type": "stream",
     "text": [
      "Enter a number: 127\n"
     ]
    }
   ],
   "source": [
    "number = int(input(\"Enter a number: \"))"
   ]
  },
  {
   "cell_type": "code",
   "execution_count": 40,
   "metadata": {},
   "outputs": [
    {
     "name": "stdout",
     "output_type": "stream",
     "text": [
      "Checking\n"
     ]
    }
   ],
   "source": [
    "print(\"Checking\")\n",
    "isPrime = True \n",
    "for i in range(2, number//2):\n",
    "    if number % i == 0:\n",
    "        isPrime = False\n",
    "        break"
   ]
  },
  {
   "cell_type": "code",
   "execution_count": 41,
   "metadata": {},
   "outputs": [
    {
     "name": "stdout",
     "output_type": "stream",
     "text": [
      "127 is prime\n"
     ]
    }
   ],
   "source": [
    "if isPrime:\n",
    "    print(\"{} is prime\".format(number))\n",
    "else:\n",
    "    \n",
    "    print(\"{} is not prime\".format(number))"
   ]
  },
  {
   "cell_type": "markdown",
   "metadata": {},
   "source": [
    "#### 3.0 WAP to check whether the given number is Armstrong or not."
   ]
  },
  {
   "cell_type": "code",
   "execution_count": 58,
   "metadata": {},
   "outputs": [
    {
     "name": "stdout",
     "output_type": "stream",
     "text": [
      "Enter a number: 150\n"
     ]
    }
   ],
   "source": [
    "number = input(\"Enter a number: \")\n",
    "length = len(number)\n",
    "number = int(number)\n",
    "original = number"
   ]
  },
  {
   "cell_type": "code",
   "execution_count": 59,
   "metadata": {},
   "outputs": [
    {
     "name": "stdout",
     "output_type": "stream",
     "text": [
      "Checking\n",
      "150 is not an armstrong number\n"
     ]
    }
   ],
   "source": [
    "print(\"Checking\")\n",
    "sum = 0\n",
    "while number > 0:\n",
    "    sum += (number % 10) ** length\n",
    "    number = number // 10\n",
    "if original == sum:\n",
    "    print(\"{} is an armstrong number\".format(original))\n",
    "else:\n",
    "    \n",
    "    print(\"{} is not an armstrong number\".format(original))"
   ]
  },
  {
   "cell_type": "markdown",
   "metadata": {},
   "source": [
    "#### 4.0 WAP to generate Fibonacci series."
   ]
  },
  {
   "cell_type": "code",
   "execution_count": 57,
   "metadata": {},
   "outputs": [
    {
     "name": "stdout",
     "output_type": "stream",
     "text": [
      "Enter the limit: 10\n"
     ]
    }
   ],
   "source": [
    "limit = int(input(\"Enter the limit: \"))"
   ]
  },
  {
   "cell_type": "code",
   "execution_count": 58,
   "metadata": {},
   "outputs": [
    {
     "name": "stdout",
     "output_type": "stream",
     "text": [
      "Generating\n",
      "1 \n",
      "1 \n",
      "2 \n",
      "3 \n",
      "5 \n",
      "8 \n",
      "13 \n",
      "21 \n",
      "34 \n",
      "55 \n"
     ]
    }
   ],
   "source": [
    "print(\"Generating\")\n",
    "a = 0\n",
    "b = 1\n",
    "for i in range(1, limit+1):\n",
    "    print(\"{} \".format(b))\n",
    "    a, b = b, a+b"
   ]
  },
  {
   "cell_type": "markdown",
   "metadata": {},
   "source": [
    "#### 5.0 WAP to find the sum of n natural numbers to a limit"
   ]
  },
  {
   "cell_type": "code",
   "execution_count": 75,
   "metadata": {},
   "outputs": [
    {
     "name": "stdout",
     "output_type": "stream",
     "text": [
      "Enter the limit: 5\n"
     ]
    }
   ],
   "source": [
    "n = int(input(\"Enter the limit: \"))"
   ]
  },
  {
   "cell_type": "code",
   "execution_count": 81,
   "metadata": {},
   "outputs": [
    {
     "name": "stdout",
     "output_type": "stream",
     "text": [
      "Calculating\n",
      "Sum of first 5 natural number(s) is 15\n"
     ]
    }
   ],
   "source": [
    "print(\"Calculating\")\n",
    "sum = (n**2+n) // 2\n",
    "print(\"Sum of first {} natural number(s) is {}\".format(limit, sum))"
   ]
  },
  {
   "cell_type": "markdown",
   "metadata": {},
   "source": [
    "## Function and Function Call"
   ]
  },
  {
   "cell_type": "markdown",
   "metadata": {},
   "source": [
    "#### 1.0 WAP to find the factors of a given number."
   ]
  },
  {
   "cell_type": "code",
   "execution_count": 89,
   "metadata": {},
   "outputs": [],
   "source": [
    "def checkFactor(number, factor):\n",
    "    return True if number%factor == 0 else False "
   ]
  },
  {
   "cell_type": "code",
   "execution_count": 92,
   "metadata": {},
   "outputs": [],
   "source": [
    "def main():\n",
    "    number = int(input(\"Enter a number: \"))\n",
    "    factors = []\n",
    "    print(\"Calculating\")\n",
    "    for i in range(1, number//2+1):\n",
    "        if checkFactor(number, i):\n",
    "            factors.append(i)\n",
    "    print(\"Factor(s) of {} is/are {}\".format(number, factors))"
   ]
  },
  {
   "cell_type": "code",
   "execution_count": 93,
   "metadata": {},
   "outputs": [
    {
     "name": "stdout",
     "output_type": "stream",
     "text": [
      "Enter a number: 150\n",
      "Calculating\n",
      "Factor(s) of 150 is/are [1, 2, 3, 5, 6, 10, 15, 25, 30, 50, 75]\n"
     ]
    }
   ],
   "source": [
    "main()"
   ]
  },
  {
   "cell_type": "markdown",
   "metadata": {},
   "source": [
    "#### 2.0 WAP to find factorial of a given number using recursion."
   ]
  },
  {
   "cell_type": "code",
   "execution_count": 102,
   "metadata": {},
   "outputs": [],
   "source": [
    "def findFactorial(num):\n",
    "    if num == 0 or num ==1:\n",
    "        return 1\n",
    "    else:\n",
    "        return num * findFactorial(num-1)"
   ]
  },
  {
   "cell_type": "code",
   "execution_count": 103,
   "metadata": {},
   "outputs": [],
   "source": [
    "def main():\n",
    "    number = int(input(\"Enter a number: \"))\n",
    "    print(\"Factorial of {} is {}\".format(number, findFactorial(number)))"
   ]
  },
  {
   "cell_type": "code",
   "execution_count": 104,
   "metadata": {},
   "outputs": [
    {
     "name": "stdout",
     "output_type": "stream",
     "text": [
      "Enter a number: 5\n",
      "Factorial of 5 is 120\n"
     ]
    }
   ],
   "source": [
    "main()"
   ]
  },
  {
   "cell_type": "markdown",
   "metadata": {},
   "source": [
    "#### 3.0 WAP to generate Fibonacci series using recursion."
   ]
  },
  {
   "cell_type": "code",
   "execution_count": 1,
   "metadata": {},
   "outputs": [],
   "source": [
    "def fibonacciSeries(limit):\n",
    "    if limit == 0:\n",
    "        return 0\n",
    "    elif limit == 1:\n",
    "        return 1\n",
    "    else:\n",
    "        return (fibonacciSeries(limit-2) + fibonacciSeries(limit-1))"
   ]
  },
  {
   "cell_type": "code",
   "execution_count": 5,
   "metadata": {},
   "outputs": [],
   "source": [
    "def main():\n",
    "    limit = int(input(\"Enter the limit\"))\n",
    "    for i in range(0, limit):\n",
    "        print(\"{} \".format(fibonacciSeries(i)))"
   ]
  },
  {
   "cell_type": "code",
   "execution_count": 6,
   "metadata": {},
   "outputs": [
    {
     "name": "stdout",
     "output_type": "stream",
     "text": [
      "Enter the limit10\n",
      "0 \n",
      "1 \n",
      "1 \n",
      "2 \n",
      "3 \n",
      "5 \n",
      "8 \n",
      "13 \n",
      "21 \n",
      "34 \n"
     ]
    }
   ],
   "source": [
    "main()"
   ]
  },
  {
   "cell_type": "markdown",
   "metadata": {},
   "source": [
    "#### 4.0 WAP to find nCr and nPr for given values of n and r."
   ]
  },
  {
   "cell_type": "code",
   "execution_count": 14,
   "metadata": {},
   "outputs": [],
   "source": [
    "from math import factorial"
   ]
  },
  {
   "cell_type": "code",
   "execution_count": 15,
   "metadata": {},
   "outputs": [],
   "source": [
    "def findPermutation(n, r):\n",
    "    return factorial(n)/factorial(n-r)"
   ]
  },
  {
   "cell_type": "code",
   "execution_count": 16,
   "metadata": {},
   "outputs": [],
   "source": [
    "def findCombination(npr, r):\n",
    "    return npr/factorial(r)"
   ]
  },
  {
   "cell_type": "code",
   "execution_count": 19,
   "metadata": {},
   "outputs": [],
   "source": [
    "def main():\n",
    "    n = int(input(\"Enter a value for n: \"))\n",
    "    r = int(input(\"Enter a value for r: \"))\n",
    "    npr = findPermutation(n, r)\n",
    "    ncr = findCombination(npr, r)\n",
    "    print(\"nPr = {}\".format(npr))\n",
    "    print(\"nCr = {}\".format(ncr))"
   ]
  },
  {
   "cell_type": "code",
   "execution_count": 20,
   "metadata": {},
   "outputs": [
    {
     "name": "stdout",
     "output_type": "stream",
     "text": [
      "Enter a value for n: 5\n",
      "Enter a value for r: 4\n",
      "nPr = 120.0\n",
      "nCr = 5.0\n"
     ]
    }
   ],
   "source": [
    "main()"
   ]
  },
  {
   "cell_type": "markdown",
   "metadata": {},
   "source": [
    "#### 5.0 WAP to find sum of digits of a number using recursion."
   ]
  },
  {
   "cell_type": "code",
   "execution_count": 35,
   "metadata": {},
   "outputs": [],
   "source": [
    "def calculateSum(number): \n",
    "    if number == 0:\n",
    "        return 0;\n",
    "    elif number > 0:\n",
    "        return (number%10 + calculateSum(number//10))"
   ]
  },
  {
   "cell_type": "code",
   "execution_count": 37,
   "metadata": {},
   "outputs": [],
   "source": [
    "def main():\n",
    "    number = int(input(\"Enter a number: \"))\n",
    "    print(\"Sum of digits of {} = {}\".format(number, calculateSum(number)))"
   ]
  },
  {
   "cell_type": "code",
   "execution_count": 38,
   "metadata": {},
   "outputs": [
    {
     "name": "stdout",
     "output_type": "stream",
     "text": [
      "Enter a number: 154\n",
      "Sum of digits of 154 = 10\n"
     ]
    }
   ],
   "source": [
    "main()"
   ]
  },
  {
   "cell_type": "markdown",
   "metadata": {},
   "source": [
    "## Strings"
   ]
  },
  {
   "cell_type": "markdown",
   "metadata": {},
   "source": [
    "#### 1.0 WAP to count the number of characters and words in a given string."
   ]
  },
  {
   "cell_type": "code",
   "execution_count": 48,
   "metadata": {},
   "outputs": [],
   "source": [
    "def countCharacters(string):\n",
    "    count = 0\n",
    "    for c in string:\n",
    "        count += 1\n",
    "    return count"
   ]
  },
  {
   "cell_type": "code",
   "execution_count": 52,
   "metadata": {},
   "outputs": [],
   "source": [
    "def countWords(string):\n",
    "    return len(string.split())"
   ]
  },
  {
   "cell_type": "code",
   "execution_count": 53,
   "metadata": {},
   "outputs": [],
   "source": [
    "def main():\n",
    "    string = input(\"Enter the string: \")\n",
    "    print(\"Number of characters in string = {}\".format(countCharacters(string)))\n",
    "    print(\"Number of words in string = {}\".format(countWords(string)))"
   ]
  },
  {
   "cell_type": "code",
   "execution_count": 54,
   "metadata": {},
   "outputs": [
    {
     "name": "stdout",
     "output_type": "stream",
     "text": [
      "Enter the string: hello world\n",
      "Number of characters in string = 11\n",
      "Number of words in string = 2\n"
     ]
    }
   ],
   "source": [
    "main()"
   ]
  },
  {
   "cell_type": "markdown",
   "metadata": {},
   "source": [
    "#### 2.0 WAP to search for given word in a sentence."
   ]
  },
  {
   "cell_type": "code",
   "execution_count": 65,
   "metadata": {},
   "outputs": [],
   "source": [
    "def findString(string, sub_string):\n",
    "    return string.find(sub_string)"
   ]
  },
  {
   "cell_type": "code",
   "execution_count": 66,
   "metadata": {},
   "outputs": [],
   "source": [
    "def main():\n",
    "    string = input(\"Enter a string: \")\n",
    "    sub_string = input(\"Enter the word: \")\n",
    "    loc = findString(string, sub_string)\n",
    "    if loc >= 0:\n",
    "        print(\"Word found at location {}\".format(loc))\n",
    "    else:\n",
    "        print(\"Word not found\")"
   ]
  },
  {
   "cell_type": "code",
   "execution_count": 67,
   "metadata": {},
   "outputs": [
    {
     "name": "stdout",
     "output_type": "stream",
     "text": [
      "Enter a string: Hello world!\n",
      "Enter the word: world!\n",
      "Word found at location 6\n"
     ]
    }
   ],
   "source": [
    "main()"
   ]
  },
  {
   "cell_type": "markdown",
   "metadata": {},
   "source": [
    "#### 3.0 WAP to concatenate two strings."
   ]
  },
  {
   "cell_type": "code",
   "execution_count": 72,
   "metadata": {},
   "outputs": [],
   "source": [
    "def concatenate(string_1, string_2):\n",
    "    return string_1 + string_2"
   ]
  },
  {
   "cell_type": "code",
   "execution_count": 77,
   "metadata": {},
   "outputs": [],
   "source": [
    "def main():\n",
    "    string_1 = input(\"Enter first string: \")\n",
    "    string_2 = input(\"Enter second string: \")\n",
    "    print(\"\\nString 1 = {}\".format(string_1))\n",
    "    print(\"String 2 = {}\".format(string_2))\n",
    "    print(\"\\nAfter concatenation\")\n",
    "    print(\"_______________________\")\n",
    "    print(concatenate(string_1, string_2))"
   ]
  },
  {
   "cell_type": "code",
   "execution_count": 78,
   "metadata": {},
   "outputs": [
    {
     "name": "stdout",
     "output_type": "stream",
     "text": [
      "Enter first string: Hello \n",
      "Enter second string: World\n",
      "\n",
      "String 1 = Hello \n",
      "String 2 = World\n",
      "\n",
      "After concatenation\n",
      "_______________________\n",
      "Hello World\n"
     ]
    }
   ],
   "source": [
    "main()"
   ]
  },
  {
   "cell_type": "markdown",
   "metadata": {},
   "source": [
    "#### 4.0 WAP to check whether the given string is palindrome/not (i) using slice (ii) using loop."
   ]
  },
  {
   "cell_type": "code",
   "execution_count": 79,
   "metadata": {},
   "outputs": [
    {
     "name": "stdout",
     "output_type": "stream",
     "text": [
      "Method 1\n",
      "___________________\n",
      "\n"
     ]
    }
   ],
   "source": [
    "print(\"Method 1\")\n",
    "print(\"___________________\\n\")"
   ]
  },
  {
   "cell_type": "code",
   "execution_count": 81,
   "metadata": {},
   "outputs": [],
   "source": [
    "def checkPalindromeUsingSlice(string):\n",
    "    reverse = string[::-1]\n",
    "    return True if string == reverse else False"
   ]
  },
  {
   "cell_type": "code",
   "execution_count": 90,
   "metadata": {},
   "outputs": [],
   "source": [
    "def main():\n",
    "    string = input(\"Enter a string: \")\n",
    "    is_pal = checkPalindromeUsingSlice(string.lower())\n",
    "    if is_pal:\n",
    "        print(\"{} is palindrome\".format(string))\n",
    "    else:\n",
    "        print(\"{} is not a palindrome\".format(string))\n",
    "            "
   ]
  },
  {
   "cell_type": "code",
   "execution_count": 91,
   "metadata": {},
   "outputs": [
    {
     "name": "stdout",
     "output_type": "stream",
     "text": [
      "Enter a string: Malayalam\n",
      "Malayalam is palindrome\n"
     ]
    }
   ],
   "source": [
    "main()"
   ]
  },
  {
   "cell_type": "code",
   "execution_count": 92,
   "metadata": {},
   "outputs": [
    {
     "name": "stdout",
     "output_type": "stream",
     "text": [
      "Method 2\n",
      "___________________\n",
      "\n"
     ]
    }
   ],
   "source": [
    "print(\"Method 2\")\n",
    "print(\"___________________\\n\")"
   ]
  },
  {
   "cell_type": "code",
   "execution_count": 93,
   "metadata": {},
   "outputs": [],
   "source": [
    "def checkPalindromeUsingLoop(string):\n",
    "    reverse = \"\"\n",
    "    for c in string:\n",
    "        reverse = c + reverse\n",
    "    return True if string == reverse else False"
   ]
  },
  {
   "cell_type": "code",
   "execution_count": 94,
   "metadata": {},
   "outputs": [],
   "source": [
    "def main():\n",
    "    string = input(\"Enter a string: \")\n",
    "    is_pal = checkPalindromeUsingLoop(string.lower())\n",
    "    if is_pal:\n",
    "        print(\"{} is palindrome\".format(string))\n",
    "    else:\n",
    "        print(\"{} is not a palindrome\".format(string))"
   ]
  },
  {
   "cell_type": "code",
   "execution_count": 95,
   "metadata": {},
   "outputs": [
    {
     "name": "stdout",
     "output_type": "stream",
     "text": [
      "Enter a string: Malayalam\n",
      "Malayalam is palindrome\n"
     ]
    }
   ],
   "source": [
    "main()"
   ]
  },
  {
   "cell_type": "markdown",
   "metadata": {},
   "source": [
    "## Lists"
   ]
  },
  {
   "cell_type": "markdown",
   "metadata": {},
   "source": [
    "#### 1.0 WAP to create a list of ‘n’ numbers, display the list using for loop and replace the element a given position with another element."
   ]
  },
  {
   "cell_type": "code",
   "execution_count": 1,
   "metadata": {},
   "outputs": [],
   "source": [
    "def readList():\n",
    "    numbers = list(map(int, input(\"Enter a list of numbers: \").split()))\n",
    "    return numbers"
   ]
  },
  {
   "cell_type": "code",
   "execution_count": 7,
   "metadata": {},
   "outputs": [],
   "source": [
    "def dispay(numbers):\n",
    "    for n in numbers:\n",
    "        print(\"{} \".format(n),end='')\n",
    "    print(\"\")"
   ]
  },
  {
   "cell_type": "code",
   "execution_count": 10,
   "metadata": {},
   "outputs": [],
   "source": [
    "def main():\n",
    "    numbers = readList()\n",
    "    print(\"\\nList\")\n",
    "    print(\"_______\")\n",
    "    dispay(numbers)\n",
    "    pos = int(input(\"\\nEnter the position of the element to be replaced: \"))\n",
    "    new_element= int(input(\"Enter the new element: \"))\n",
    "    numbers[pos-1] = new_element\n",
    "    print(\"\\nUpdated list\")\n",
    "    print(\"_______\")\n",
    "    dispay(numbers)"
   ]
  },
  {
   "cell_type": "code",
   "execution_count": 11,
   "metadata": {},
   "outputs": [
    {
     "name": "stdout",
     "output_type": "stream",
     "text": [
      "Enter a list of numbers: 12 54 78 98 56 54\n",
      "\n",
      "List\n",
      "_______\n",
      "12 54 78 98 56 54 \n",
      "\n",
      "Enter the position of the element to be replaced: 2\n",
      "Enter the new element: 56\n",
      "\n",
      "Updated list\n",
      "_______\n",
      "12 56 78 98 56 54 \n"
     ]
    }
   ],
   "source": [
    "main()"
   ]
  },
  {
   "cell_type": "markdown",
   "metadata": {},
   "source": [
    "#### 2.0 WAP to implement linear search in a list using loop."
   ]
  },
  {
   "cell_type": "code",
   "execution_count": 18,
   "metadata": {},
   "outputs": [],
   "source": [
    "def linearSearch(number_list, element):\n",
    "    for i in range(len(number_list)):\n",
    "        if number_list[i] == element: \n",
    "            return i \n",
    "    return -1"
   ]
  },
  {
   "cell_type": "code",
   "execution_count": 19,
   "metadata": {},
   "outputs": [],
   "source": [
    "def main():\n",
    "    number_list = list(map(int, input(\"Enter a list of numbers: \").split()))\n",
    "    element = int(input(\"Enter the element to be searched: \"))\n",
    "    pos = linearSearch(number_list, element)\n",
    "    if pos != -1:\n",
    "        print(\"Element found at {}\".format(pos))\n",
    "    else:\n",
    "        print(\"Element not found\")"
   ]
  },
  {
   "cell_type": "code",
   "execution_count": 21,
   "metadata": {},
   "outputs": [
    {
     "name": "stdout",
     "output_type": "stream",
     "text": [
      "Enter a list of numbers: 12 23\n",
      "Enter the element to be searched: 23\n",
      "Element found at 1\n"
     ]
    }
   ],
   "source": [
    "main()"
   ]
  },
  {
   "cell_type": "code",
   "execution_count": null,
   "metadata": {},
   "outputs": [],
   "source": []
  }
 ],
 "metadata": {
  "kernelspec": {
   "display_name": "Python 3",
   "language": "python",
   "name": "python3"
  },
  "language_info": {
   "codemirror_mode": {
    "name": "ipython",
    "version": 3
   },
   "file_extension": ".py",
   "mimetype": "text/x-python",
   "name": "python",
   "nbconvert_exporter": "python",
   "pygments_lexer": "ipython3",
   "version": "3.6.6"
  }
 },
 "nbformat": 4,
 "nbformat_minor": 1
}
